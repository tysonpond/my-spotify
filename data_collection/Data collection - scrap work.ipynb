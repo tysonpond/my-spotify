{
 "cells": [
  {
   "cell_type": "markdown",
   "metadata": {},
   "source": [
    "# Data collection - scrap work\n",
    "This also shows you how to get an access key."
   ]
  },
  {
   "cell_type": "code",
   "execution_count": null,
   "metadata": {},
   "outputs": [],
   "source": [
    "import requests\n",
    "import json\n",
    "from config import *\n",
    "from datetime import datetime\n",
    "from dateutil.relativedelta import relativedelta\n",
    "from time import mktime\n",
    "import time"
   ]
  },
  {
   "cell_type": "markdown",
   "metadata": {},
   "source": [
    "# Get recent tracks from Last FM"
   ]
  },
  {
   "cell_type": "code",
   "execution_count": null,
   "metadata": {
    "scrolled": true
   },
   "outputs": [],
   "source": [
    "data = requests.get(\"http://ws.audioscrobbler.com/2.0\", \n",
    "                    {\"method\": \"user.getrecenttracks\", \n",
    "                     \"user\": \"tysonpo\", \n",
    "                     \"api_key\": lastfm_client_id, \n",
    "                     \"format\": \"json\"}).json()\n",
    "last_track = data[\"recenttracks\"][\"track\"][0] # most recently played track\n",
    "last_track"
   ]
  },
  {
   "cell_type": "code",
   "execution_count": null,
   "metadata": {
    "scrolled": true
   },
   "outputs": [],
   "source": [
    "track, artist, album, date = last_track[\"name\"], last_track[\"artist\"][\"#text\"], last_track[\"album\"][\"#text\"], last_track[\"date\"][\"uts\"]\n",
    "track, artist, album, date"
   ]
  },
  {
   "cell_type": "markdown",
   "metadata": {},
   "source": [
    "# Get each track's information from Spotify"
   ]
  },
  {
   "cell_type": "markdown",
   "metadata": {},
   "source": [
    "## Authorization"
   ]
  },
  {
   "cell_type": "code",
   "execution_count": null,
   "metadata": {},
   "outputs": [],
   "source": [
    "url = \"https://accounts.spotify.com/authorize?client_id=%s&response_type=code&redirect_uri=%s\" % (spotify_client_id, spotify_redirect_uri)\n",
    "print(url)\n",
    "\n",
    "# click on url. The string following \"code=\" is your authorization code -- copy and paste it into the cell below"
   ]
  },
  {
   "cell_type": "code",
   "execution_count": null,
   "metadata": {},
   "outputs": [],
   "source": [
    "auth_code = \"...\""
   ]
  },
  {
   "cell_type": "code",
   "execution_count": null,
   "metadata": {},
   "outputs": [],
   "source": [
    "# get access token\n",
    "data = requests.post('https://accounts.spotify.com/api/token', \n",
    "                  {'code': auth_code, 'redirect_uri': spotify_redirect_uri, 'grant_type': \"authorization_code\", \n",
    "                   \"client_id\": spotify_client_id, \"client_secret\": spotify_client_secret}).json()\n",
    "spotify_access_token = data[\"access_token\"]"
   ]
  },
  {
   "cell_type": "code",
   "execution_count": null,
   "metadata": {},
   "outputs": [],
   "source": [
    "spotify_access_token"
   ]
  },
  {
   "cell_type": "code",
   "execution_count": null,
   "metadata": {},
   "outputs": [],
   "source": [
    "spotify_headers = {\"client-id\":spotify_client_id, \"Authorization\":\"Bearer %s\" % spotify_access_token}"
   ]
  },
  {
   "cell_type": "markdown",
   "metadata": {},
   "source": [
    "## Get its ID"
   ]
  },
  {
   "cell_type": "code",
   "execution_count": null,
   "metadata": {
    "scrolled": true
   },
   "outputs": [],
   "source": [
    "data = requests.get(\"https://api.spotify.com/v1/search\", \n",
    "                    {\"q\": track + \" \" + artist, \"type\": \"track\", \"limit\":50}, \n",
    "                    headers=spotify_headers).json()\n",
    "data"
   ]
  },
  {
   "cell_type": "code",
   "execution_count": null,
   "metadata": {},
   "outputs": [],
   "source": [
    "matches = [x for x in data[\"tracks\"][\"items\"] if x[\"album\"] and x[\"album\"][\"name\"] == album] # get all tracks with correct album name\n",
    "ID = max(matches, key = lambda x: x[\"popularity\"])[\"id\"] # if multiple, get one with with highest popularity. Get the tracks id\n",
    "ID"
   ]
  },
  {
   "cell_type": "markdown",
   "metadata": {},
   "source": [
    "## Get audio features \n",
    "We can get audio features for multiple tracks by concatenating multiple track IDs in a comma-separated list"
   ]
  },
  {
   "cell_type": "code",
   "execution_count": null,
   "metadata": {
    "scrolled": true
   },
   "outputs": [],
   "source": [
    "tracks = ['1y4Kln6VEjQMpmHW7j9GeY', '7Lf7oSEVdzZqTA0kEDSlS5', '1kdiiFGX1Htx0aVZYaDwEJ', '7xbWAw3LMgRMn4omR5yVn3', '6RUKPb4LETWmmr3iAEQktW']\n",
    "data = requests.get(\"https://api.spotify.com/v1/audio-features\",\n",
    "                    {\"ids\": \",\".join(tracks)},\n",
    "                    headers=spotify_headers).json()[\"audio_features\"]\n",
    "data = [x for x in data if x] # remove null results\n",
    "drop_keys = [\"type\", \"uri\", \"track_href\", \"analysis_url\"]\n",
    "data = [{key:dct[key] for key in dct if key not in drop_keys} for dct in data]\n",
    "data"
   ]
  }
 ],
 "metadata": {
  "kernelspec": {
   "display_name": "Python 3",
   "language": "python",
   "name": "python3"
  },
  "language_info": {
   "codemirror_mode": {
    "name": "ipython",
    "version": 3
   },
   "file_extension": ".py",
   "mimetype": "text/x-python",
   "name": "python",
   "nbconvert_exporter": "python",
   "pygments_lexer": "ipython3",
   "version": "3.7.6"
  }
 },
 "nbformat": 4,
 "nbformat_minor": 4
}
